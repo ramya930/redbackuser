{
 "cells": [
  {
   "cell_type": "code",
   "execution_count": 53,
   "id": "3dff9497",
   "metadata": {},
   "outputs": [
    {
     "name": "stdout",
     "output_type": "stream",
     "text": [
      "                     timestamp  position_lat position_long  distance  \\\n",
      "0    2020-09-24 01:57:12+00:00  -38.02920456   145.3804648  30.71738   \n",
      "1    2020-10-17 04:45:22+00:00  -38.02391457   145.3458308  43.05268   \n",
      "2    2020-10-17 04:45:23+00:00  -38.02398859    145.345904  43.06295   \n",
      "3    2020-10-17 22:34:52+00:00  -38.03216203   145.3551936  21.28824   \n",
      "4    2020-11-13 22:21:31+00:00  -38.05935703   145.4688142  49.12163   \n",
      "..                         ...           ...           ...       ...   \n",
      "494  2021-12-17 09:07:56+00:00   -37.7618485   145.0245514  10.13942   \n",
      "495  2021-12-17 09:07:58+00:00  -37.76174264   145.0246119  10.15253   \n",
      "496  2021-12-17 09:08:00+00:00  -37.76159663   145.0247176  10.17176   \n",
      "497  2021-12-17 09:08:01+00:00  -37.76151767   145.0247794  10.18163   \n",
      "498  2021-12-17 09:08:03+00:00  -37.76151306   145.0249323  10.19692   \n",
      "\n",
      "     enhanced_altitude  altitude  ascent  grade  calories enhanced_speed  ...  \\\n",
      "0                 61.0      61.0   629.0  -3.58    1031.0        34.2288  ...   \n",
      "1                 87.0      87.0   879.0  -3.18    1370.0        37.9368  ...   \n",
      "2                 86.6      86.6   879.0  -3.12    1370.0         37.656  ...   \n",
      "3                101.0     101.0   330.0   2.22     608.0        13.7088  ...   \n",
      "4                 58.6      58.6   535.0   0.00    1190.0         35.748  ...   \n",
      "..                 ...       ...     ...    ...       ...            ...  ...   \n",
      "494              296.8     296.8    33.0   0.00     533.0         16.416  ...   \n",
      "495              296.6     296.6    33.0   0.00     534.0         20.502  ...   \n",
      "496              296.8     296.8    33.0   0.00     534.0        28.3716  ...   \n",
      "497              296.6     296.6    33.0   0.00     535.0        30.8808  ...   \n",
      "498              296.6     296.6    33.0   0.00     535.0        33.2712  ...   \n",
      "\n",
      "    heart_rate temperature  cadence  power  left_right_balance  gps_accuracy  \\\n",
      "0          137          12     82.0    NaN                 NaN             6   \n",
      "1          148          17     65.0    NaN                 NaN             6   \n",
      "2          148          17     43.0    NaN                 NaN             6   \n",
      "3          152          11     92.0    NaN                 NaN             6   \n",
      "4          141          13    103.0    NaN                 NaN             6   \n",
      "..         ...         ...      ...    ...                 ...           ...   \n",
      "494        203          29      NaN    NaN                 NaN             8   \n",
      "495        204          29      NaN    NaN                 NaN             8   \n",
      "496        204          29      NaN    NaN                 NaN             8   \n",
      "497        204          29      NaN    NaN                 NaN             8   \n",
      "498        204          29      NaN    NaN                 NaN             8   \n",
      "\n",
      "    descriptor  product_name  serial_number  sessionID  \n",
      "0          NaN           NaN            NaN        NaN  \n",
      "1          NaN           NaN            NaN        NaN  \n",
      "2          NaN           NaN            NaN        NaN  \n",
      "3          NaN           NaN            NaN        NaN  \n",
      "4          NaN           NaN            NaN        NaN  \n",
      "..         ...           ...            ...        ...  \n",
      "494        NaN           NaN            NaN        NaN  \n",
      "495        NaN           NaN            NaN        NaN  \n",
      "496        NaN           NaN            NaN        NaN  \n",
      "497        NaN           NaN            NaN        NaN  \n",
      "498        NaN           NaN            NaN        NaN  \n",
      "\n",
      "[499 rows x 21 columns]\n"
     ]
    }
   ],
   "source": [
    "import pandas as pd\n",
    "import numpy as np\n",
    "\n",
    "custom_column_names= [\"timestamp\",\"position_lat\",\"position_long\",\"distance\",\"enhanced_altitude\",\n",
    "                     \"altitude\",\"ascent\",\"grade\",\"calories\",\"enhanced_speed\",\"speed\",\"heart_rate\",\n",
    "                     \"temperature\",\"cadence\",\"power\",\"left_right_balance\",\"gps_accuracy\",\n",
    "                     \"descriptor\",\"product_name\",\"serial_number\",\"sessionID\"]\n",
    "df=pd.read_csv('redback_user_8.csv',skiprows=2,header=None,names=custom_column_names)\n",
    "\n",
    "\n",
    "print(df)"
   ]
  },
  {
   "cell_type": "code",
   "execution_count": 54,
   "id": "3f0ca2b7",
   "metadata": {
    "scrolled": false
   },
   "outputs": [
    {
     "name": "stdout",
     "output_type": "stream",
     "text": [
      "                     timestamp  position_lat  position_long  distance  \\\n",
      "0    2020-09-24 01:57:12+00:00    -38.029205     145.380465  30.71738   \n",
      "1    2020-10-17 04:45:22+00:00    -38.023915     145.345831  43.05268   \n",
      "2    2020-10-17 04:45:23+00:00    -38.023989     145.345904  43.06295   \n",
      "3    2020-10-17 22:34:52+00:00    -38.032162     145.355194  21.28824   \n",
      "4    2020-11-13 22:21:31+00:00    -38.059357     145.468814  49.12163   \n",
      "..                         ...           ...            ...       ...   \n",
      "494  2021-12-17 09:07:56+00:00    -37.761848     145.024551  10.13942   \n",
      "495  2021-12-17 09:07:58+00:00    -37.761743     145.024612  10.15253   \n",
      "496  2021-12-17 09:08:00+00:00    -37.761597     145.024718  10.17176   \n",
      "497  2021-12-17 09:08:01+00:00    -37.761518     145.024779  10.18163   \n",
      "498  2021-12-17 09:08:03+00:00    -37.761513     145.024932  10.19692   \n",
      "\n",
      "     enhanced_altitude  altitude  ascent     grade  calories  enhanced_speed  \\\n",
      "0                 61.0      61.0   629.0 -3.580000    1031.0         34.2288   \n",
      "1                 87.0      87.0   879.0 -3.180000    1370.0         37.9368   \n",
      "2                 86.6      86.6   879.0 -3.120000    1370.0         37.6560   \n",
      "3                101.0     101.0   330.0  2.220000     608.0         13.7088   \n",
      "4                 58.6      58.6   535.0 -0.292902    1190.0         35.7480   \n",
      "..                 ...       ...     ...       ...       ...             ...   \n",
      "494              296.8     296.8    33.0 -0.292902     533.0         16.4160   \n",
      "495              296.6     296.6    33.0 -0.292902     534.0         20.5020   \n",
      "496              296.8     296.8    33.0 -0.292902     534.0         28.3716   \n",
      "497              296.6     296.6    33.0 -0.292902     535.0         30.8808   \n",
      "498              296.6     296.6    33.0 -0.292902     535.0         33.2712   \n",
      "\n",
      "     ...  heart_rate  temperature     cadence  power  left_right_balance  \\\n",
      "0    ...       137.0           12   82.000000    0.0                 0.0   \n",
      "1    ...       148.0           17   65.000000    0.0                 0.0   \n",
      "2    ...       148.0           17   43.000000    0.0                 0.0   \n",
      "3    ...       152.0           11   92.000000    0.0                 0.0   \n",
      "4    ...       141.0           13  103.000000    0.0                 0.0   \n",
      "..   ...         ...          ...         ...    ...                 ...   \n",
      "494  ...       203.0           29   71.462366    0.0                 0.0   \n",
      "495  ...       204.0           29   71.462366    0.0                 0.0   \n",
      "496  ...       204.0           29   71.462366    0.0                 0.0   \n",
      "497  ...       204.0           29   71.462366    0.0                 0.0   \n",
      "498  ...       204.0           29   71.462366    0.0                 0.0   \n",
      "\n",
      "     gps_accuracy  descriptor  product_name  serial_number  sessionID  \n",
      "0             6.0         0.0           0.0            0.0        0.0  \n",
      "1             6.0         0.0           0.0            0.0        0.0  \n",
      "2             6.0         0.0           0.0            0.0        0.0  \n",
      "3             6.0         0.0           0.0            0.0        0.0  \n",
      "4             6.0         0.0           0.0            0.0        0.0  \n",
      "..            ...         ...           ...            ...        ...  \n",
      "494           8.0         0.0           0.0            0.0        0.0  \n",
      "495           8.0         0.0           0.0            0.0        0.0  \n",
      "496           8.0         0.0           0.0            0.0        0.0  \n",
      "497           8.0         0.0           0.0            0.0        0.0  \n",
      "498           8.0         0.0           0.0            0.0        0.0  \n",
      "\n",
      "[499 rows x 21 columns]\n"
     ]
    }
   ],
   "source": [
    "# Convert columns 2, 3, 10, 11, 12, and 17 from object to float\n",
    "cols_to_convert = [1, 2, 9, 10, 11, 16]\n",
    "df.iloc[:, cols_to_convert] = df.iloc[:, cols_to_convert].apply(pd.to_numeric, errors='coerce')\n",
    "\n",
    "# Replace 'None' values with 0 in the mentioned columns\n",
    "df.iloc[:, cols_to_convert] = df.iloc[:, cols_to_convert].fillna(0)\n",
    "\n",
    "# Calculate the mean for numerical columns\n",
    "numeric_columns = df.select_dtypes(include=[np.number])\n",
    "numeric_columns_mean = numeric_columns.mean()\n",
    "\n",
    "# Replace NaN or 0 values with the mean for numerical columns\n",
    "df[numeric_columns.columns] = df[numeric_columns.columns].replace({0: np.nan}).fillna(numeric_columns_mean)\n",
    "\n",
    "# Calculate the mean of Column 12 and store it in a more descriptive variable\n",
    "column12_mean_value = df.iloc[:, 11].mean()\n",
    "\n",
    "# Replace blank values in Column 12 with the calculated mean value\n",
    "df.iloc[:, 11] = df.iloc[:, 11].replace('', column12_mean_value)\n",
    "\n",
    "# Replace empty columns with 0\n",
    "df.fillna(0, inplace=True)\n",
    "\n",
    "# Display the modified DataFrame\n",
    "print(df)"
   ]
  },
  {
   "cell_type": "code",
   "execution_count": 55,
   "id": "d0774e28",
   "metadata": {},
   "outputs": [
    {
     "name": "stdout",
     "output_type": "stream",
     "text": [
      "           Date  position_lat  position_long  distance  enhanced_altitude  \\\n",
      "0    2020-09-24    -38.029205     145.380465  30.71738               61.0   \n",
      "1    2020-10-17    -38.023915     145.345831  43.05268               87.0   \n",
      "2    2020-10-17    -38.023989     145.345904  43.06295               86.6   \n",
      "3    2020-10-17    -38.032162     145.355194  21.28824              101.0   \n",
      "4    2020-11-13    -38.059357     145.468814  49.12163               58.6   \n",
      "..          ...           ...            ...       ...                ...   \n",
      "494  2021-12-17    -37.761848     145.024551  10.13942              296.8   \n",
      "495  2021-12-17    -37.761743     145.024612  10.15253              296.6   \n",
      "496  2021-12-17    -37.761597     145.024718  10.17176              296.8   \n",
      "497  2021-12-17    -37.761518     145.024779  10.18163              296.6   \n",
      "498  2021-12-17    -37.761513     145.024932  10.19692              296.6   \n",
      "\n",
      "     altitude  ascent     grade  calories  enhanced_speed  ...  heart_rate  \\\n",
      "0        61.0   629.0 -3.580000    1031.0         34.2288  ...       137.0   \n",
      "1        87.0   879.0 -3.180000    1370.0         37.9368  ...       148.0   \n",
      "2        86.6   879.0 -3.120000    1370.0         37.6560  ...       148.0   \n",
      "3       101.0   330.0  2.220000     608.0         13.7088  ...       152.0   \n",
      "4        58.6   535.0 -0.292902    1190.0         35.7480  ...       141.0   \n",
      "..        ...     ...       ...       ...             ...  ...         ...   \n",
      "494     296.8    33.0 -0.292902     533.0         16.4160  ...       203.0   \n",
      "495     296.6    33.0 -0.292902     534.0         20.5020  ...       204.0   \n",
      "496     296.8    33.0 -0.292902     534.0         28.3716  ...       204.0   \n",
      "497     296.6    33.0 -0.292902     535.0         30.8808  ...       204.0   \n",
      "498     296.6    33.0 -0.292902     535.0         33.2712  ...       204.0   \n",
      "\n",
      "     temperature     cadence  power  left_right_balance  gps_accuracy  \\\n",
      "0             12   82.000000    0.0                 0.0           6.0   \n",
      "1             17   65.000000    0.0                 0.0           6.0   \n",
      "2             17   43.000000    0.0                 0.0           6.0   \n",
      "3             11   92.000000    0.0                 0.0           6.0   \n",
      "4             13  103.000000    0.0                 0.0           6.0   \n",
      "..           ...         ...    ...                 ...           ...   \n",
      "494           29   71.462366    0.0                 0.0           8.0   \n",
      "495           29   71.462366    0.0                 0.0           8.0   \n",
      "496           29   71.462366    0.0                 0.0           8.0   \n",
      "497           29   71.462366    0.0                 0.0           8.0   \n",
      "498           29   71.462366    0.0                 0.0           8.0   \n",
      "\n",
      "     descriptor  product_name  serial_number  sessionID  \n",
      "0           0.0           0.0            0.0        0.0  \n",
      "1           0.0           0.0            0.0        0.0  \n",
      "2           0.0           0.0            0.0        0.0  \n",
      "3           0.0           0.0            0.0        0.0  \n",
      "4           0.0           0.0            0.0        0.0  \n",
      "..          ...           ...            ...        ...  \n",
      "494         0.0           0.0            0.0        0.0  \n",
      "495         0.0           0.0            0.0        0.0  \n",
      "496         0.0           0.0            0.0        0.0  \n",
      "497         0.0           0.0            0.0        0.0  \n",
      "498         0.0           0.0            0.0        0.0  \n",
      "\n",
      "[499 rows x 21 columns]\n"
     ]
    }
   ],
   "source": [
    "# Split the \"timestamp\" column by space and keep the first part (date)\n",
    "df['Date'] = df['timestamp'].str.split(' ').str[0]\n",
    "\n",
    "# Drop the original \"timestamp\" column if you no longer need it\n",
    "df.drop(columns=['timestamp'], inplace=True)\n",
    "\n",
    "# Reorder columns to have \"Date\" as the first column\n",
    "cols = ['Date'] + [col for col in df if col != 'Date']\n",
    "df = df[cols]\n",
    "\n",
    "np.round(2)\n",
    "\n",
    "# Display the modified DataFrame\n",
    "print(df)\n"
   ]
  },
  {
   "cell_type": "code",
   "execution_count": 49,
   "id": "bca8591c",
   "metadata": {
    "scrolled": true
   },
   "outputs": [],
   "source": [
    "df.to_csv('cleaned_user8_dataset.csv')"
   ]
  },
  {
   "cell_type": "code",
   "execution_count": 56,
   "id": "4dee3930",
   "metadata": {},
   "outputs": [
    {
     "data": {
      "text/plain": [
       "Date                   object\n",
       "position_lat          float64\n",
       "position_long         float64\n",
       "distance              float64\n",
       "enhanced_altitude     float64\n",
       "altitude              float64\n",
       "ascent                float64\n",
       "grade                 float64\n",
       "calories              float64\n",
       "enhanced_speed        float64\n",
       "speed                 float64\n",
       "heart_rate            float64\n",
       "temperature             int64\n",
       "cadence               float64\n",
       "power                 float64\n",
       "left_right_balance    float64\n",
       "gps_accuracy          float64\n",
       "descriptor            float64\n",
       "product_name          float64\n",
       "serial_number         float64\n",
       "sessionID             float64\n",
       "dtype: object"
      ]
     },
     "execution_count": 56,
     "metadata": {},
     "output_type": "execute_result"
    }
   ],
   "source": [
    "df.dtypes"
   ]
  },
  {
   "cell_type": "code",
   "execution_count": 47,
   "id": "4e3703ac",
   "metadata": {},
   "outputs": [
    {
     "name": "stdout",
     "output_type": "stream",
     "text": [
      "All columns are filled and do not have NaN values.\n"
     ]
    }
   ],
   "source": [
    "\n",
    "\n",
    "# Check if all columns are filled and do not have NaN values\n",
    "all_columns_filled = not df.isna().any().any()\n",
    "\n",
    "if all_columns_filled:\n",
    "    print(\"All columns are filled and do not have NaN values.\")\n",
    "else:\n",
    "    print(\"There are columns with NaN values.\")\n"
   ]
  }
 ],
 "metadata": {
  "kernelspec": {
   "display_name": "Python 3 (ipykernel)",
   "language": "python",
   "name": "python3"
  },
  "language_info": {
   "codemirror_mode": {
    "name": "ipython",
    "version": 3
   },
   "file_extension": ".py",
   "mimetype": "text/x-python",
   "name": "python",
   "nbconvert_exporter": "python",
   "pygments_lexer": "ipython3",
   "version": "3.9.13"
  }
 },
 "nbformat": 4,
 "nbformat_minor": 5
}
